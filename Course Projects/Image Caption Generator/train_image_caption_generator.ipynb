{
 "cells": [
  {
   "cell_type": "code",
   "execution_count": 1,
   "id": "00764a2b",
   "metadata": {},
   "outputs": [
    {
     "ename": "ImportError",
     "evalue": "cannot import name 'load_img' from 'keras.preprocessing.image' (c:\\Python310\\lib\\site-packages\\keras\\preprocessing\\image.py)",
     "output_type": "error",
     "traceback": [
      "\u001b[1;31m---------------------------------------------------------------------------\u001b[0m",
      "\u001b[1;31mImportError\u001b[0m                               Traceback (most recent call last)",
      "\u001b[1;32md:\\6th-SEM-ISE\\Course Projects\\Image Caption Generator\\train_image_caption_generator.ipynb Cell 1'\u001b[0m in \u001b[0;36m<cell line: 9>\u001b[1;34m()\u001b[0m\n\u001b[0;32m      <a href='vscode-notebook-cell:/d%3A/6th-SEM-ISE/Course%20Projects/Image%20Caption%20Generator/train_image_caption_generator.ipynb#ch0000000?line=6'>7</a>\u001b[0m \u001b[39mfrom\u001b[39;00m \u001b[39mkeras\u001b[39;00m\u001b[39m.\u001b[39;00m\u001b[39mapplications\u001b[39;00m\u001b[39m.\u001b[39;00m\u001b[39mxception\u001b[39;00m \u001b[39mimport\u001b[39;00m Xception \u001b[39m#to get pre-trained model Xception\u001b[39;00m\n\u001b[0;32m      <a href='vscode-notebook-cell:/d%3A/6th-SEM-ISE/Course%20Projects/Image%20Caption%20Generator/train_image_caption_generator.ipynb#ch0000000?line=7'>8</a>\u001b[0m \u001b[39mfrom\u001b[39;00m \u001b[39mkeras\u001b[39;00m\u001b[39m.\u001b[39;00m\u001b[39mapplications\u001b[39;00m\u001b[39m.\u001b[39;00m\u001b[39mxception\u001b[39;00m \u001b[39mimport\u001b[39;00m preprocess_input\n\u001b[1;32m----> <a href='vscode-notebook-cell:/d%3A/6th-SEM-ISE/Course%20Projects/Image%20Caption%20Generator/train_image_caption_generator.ipynb#ch0000000?line=8'>9</a>\u001b[0m \u001b[39mfrom\u001b[39;00m \u001b[39mkeras\u001b[39;00m\u001b[39m.\u001b[39;00m\u001b[39mpreprocessing\u001b[39;00m\u001b[39m.\u001b[39;00m\u001b[39mimage\u001b[39;00m \u001b[39mimport\u001b[39;00m load_img\n\u001b[0;32m     <a href='vscode-notebook-cell:/d%3A/6th-SEM-ISE/Course%20Projects/Image%20Caption%20Generator/train_image_caption_generator.ipynb#ch0000000?line=9'>10</a>\u001b[0m \u001b[39mfrom\u001b[39;00m \u001b[39mkeras\u001b[39;00m\u001b[39m.\u001b[39;00m\u001b[39mpreprocessing\u001b[39;00m\u001b[39m.\u001b[39;00m\u001b[39mimage\u001b[39;00m \u001b[39mimport\u001b[39;00m img_to_array\n\u001b[0;32m     <a href='vscode-notebook-cell:/d%3A/6th-SEM-ISE/Course%20Projects/Image%20Caption%20Generator/train_image_caption_generator.ipynb#ch0000000?line=10'>11</a>\u001b[0m \u001b[39mfrom\u001b[39;00m \u001b[39mkeras\u001b[39;00m\u001b[39m.\u001b[39;00m\u001b[39mpreprocessing\u001b[39;00m\u001b[39m.\u001b[39;00m\u001b[39mtext\u001b[39;00m \u001b[39mimport\u001b[39;00m Tokenizer \u001b[39m#for text tokenization\u001b[39;00m\n",
      "\u001b[1;31mImportError\u001b[0m: cannot import name 'load_img' from 'keras.preprocessing.image' (c:\\Python310\\lib\\site-packages\\keras\\preprocessing\\image.py)"
     ]
    }
   ],
   "source": [
    "import numpy as np\n",
    "from PIL import Image\n",
    "import os\n",
    "import string\n",
    "from pickle import dump\n",
    "from pickle import load\n",
    "from keras.applications.xception import Xception #to get pre-trained model Xception\n",
    "from keras.applications.xception import preprocess_input\n",
    "from keras.preprocessing.image import load_img\n",
    "from keras.preprocessing.image import img_to_array\n",
    "from keras.preprocessing.text import Tokenizer #for text tokenization\n",
    "from keras.preprocessing.sequence import pad_sequences\n",
    "# from keras.utils import to_categorical\n",
    "from tensorflow.keras.utils import to_categorical\n",
    "from keras.layers.merge import add\n",
    "from keras.models import Model, load_model\n",
    "from keras.layers import Input, Dense#Keras to build our CNN and LSTM\n",
    "from keras.layers import LSTM, Embedding, Dropout\n",
    "from tqdm.notebook import tqdm_notebook #to check loop progress\n",
    "tqdm_notebook.pandas()"
   ]
  },
  {
   "cell_type": "code",
   "execution_count": null,
   "id": "9cd1ea42",
   "metadata": {},
   "outputs": [],
   "source": [
    "# Load the document file into memory\n",
    "def load_fp(filename):\n",
    "  # Open file to read\n",
    "   file = open(filename, 'r')\n",
    "   text = file.read()\n",
    "   file.close()\n",
    "   return text\n",
    "# get all images with their captions\n",
    "def img_capt(filename):\n",
    "   file = load_doc(filename)\n",
    "   captions = file.split('n')\n",
    "   descriptions ={}\n",
    "for caption in captions[:-1]:\n",
    "       img, caption = caption.split('t')\n",
    "if img[:-2] not in descriptions:\n",
    "           descriptions[img[:-2]] = [ caption ]\n",
    "else:\n",
    "           descriptions[img[:-2]].append(caption)\n",
    "return descriptions\n",
    "#Data cleaning function will convert all upper case alphabets to lowercase, removing punctuations and words containing numbers\n",
    "def txt_clean(captions):\n",
    "   table = str.maketrans('','',string.punctuation)\n",
    "for img,caps in captions.items():\n",
    "for i,img_caption in enumerate(caps):\n",
    "           img_caption.replace(\"-\",\" \")\n",
    "           descp = img_caption.split()\n",
    "          #uppercase to lowercase\n",
    "           descp = [wrd.lower() for wrd in descp]\n",
    "          #remove punctuation from each token\n",
    "           descp = [wrd.translate(table) for wrd in descp]\n",
    "          #remove hanging 's and a\n",
    "           descp = [wrd for wrd in descp if(len(wrd)>1)]\n",
    "          #remove words containing numbers with them\n",
    "           descp = [wrd for wrd in descp if(wrd.isalpha())]\n",
    "          #converting back to string\n",
    "           img_caption = ' '.join(desc)\n",
    "           captions[img][i]= img_caption\n",
    "return captions\n",
    "def txt_vocab(descriptions):\n",
    "  # To build vocab of all unique words\n",
    "   vocab = set()\n",
    "for key in descriptions.keys():\n",
    "       [vocab.update(d.split()) for d in descriptions[key]]\n",
    "return vocab\n",
    "#To save all descriptions in one file\n",
    "def save_descriptions(descriptions, filename):\n",
    "   lines = list()\n",
    "for key, desc_list in descriptions.items():\n",
    "for desc in desc_list:\n",
    "           lines.append(key + 't' + desc )\n",
    "   data = \"n\".join(lines)\n",
    "   file = open(filename,\"w\")\n",
    "   file.write(data)\n",
    "   file.close()\n",
    "# Set these path according to project folder in you system, like i create a folder with my name shikha inside D-drive\n",
    "dataset_text = \"D:shikhaProject - Image Caption GeneratorFlickr_8k_text\"\n",
    "dataset_images = \"D:shikhaProject - Image Caption GeneratorFlicker8k_Dataset\"\n",
    "#to prepare our text data\n",
    "filename = dataset_text + \"/\" + \"Flickr8k.token.txt\"\n",
    "#loading the file that contains all data\n",
    "#map them into descriptions dictionary \n",
    "descriptions = img_capt(filename)\n",
    "print(\"Length of descriptions =\" ,len(descriptions))\n",
    "#cleaning the descriptions\n",
    "clean_descriptions = txt_clean(descriptions)\n",
    "#to build vocabulary\n",
    "vocabulary = txt_vocab(clean_descriptions)\n",
    "print(\"Length of vocabulary = \", len(vocabulary))\n",
    "#saving all descriptions in one file\n",
    "save_descriptions(clean_descriptions, \"descriptions.txt\")"
   ]
  }
 ],
 "metadata": {
  "interpreter": {
   "hash": "369f2c481f4da34e4445cda3fffd2e751bd1c4d706f27375911949ba6bb62e1c"
  },
  "kernelspec": {
   "display_name": "Python 3.10.4 64-bit",
   "language": "python",
   "name": "python3"
  },
  "language_info": {
   "codemirror_mode": {
    "name": "ipython",
    "version": 3
   },
   "file_extension": ".py",
   "mimetype": "text/x-python",
   "name": "python",
   "nbconvert_exporter": "python",
   "pygments_lexer": "ipython3",
   "version": "3.10.2"
  }
 },
 "nbformat": 4,
 "nbformat_minor": 5
}
